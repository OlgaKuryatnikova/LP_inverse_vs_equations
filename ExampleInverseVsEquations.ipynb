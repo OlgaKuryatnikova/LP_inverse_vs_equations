{
 "cells": [
  {
   "cell_type": "code",
   "execution_count": 8,
   "id": "b17663ad",
   "metadata": {},
   "outputs": [
    {
     "name": "stdout",
     "output_type": "stream",
     "text": [
      "The outputs of the code are:\n",
      "Using the inverse takes 12.341 seconds\n",
      "Solving the system of equalities takes 3.814 seconds\n",
      "The Euclidean norm of the difference between the solutions is 2.1e-10\n"
     ]
    }
   ],
   "source": [
    "# Import packages\n",
    "import numpy as np\n",
    "import time\n",
    "\n",
    "# Create the matrix B and vector b randomly\n",
    "size=8000\n",
    "B = np.random.rand(size,size)\n",
    "b = np.random.rand(size,1)\n",
    "\n",
    "# Compute bar_b=B^-1b using the inverse, record the time\n",
    "t1 = time.time()\n",
    "b_bar1=np.matmul(np.linalg.inv(B),b)\n",
    "runtime1= time.time() - t1\n",
    "\n",
    "# Compute bar_b=B^-1b solving the system of equations b=Bbar_b, record the time\n",
    "t2 = time.time()\n",
    "b_bar2=np.linalg.solve(B,b)\n",
    "runtime2 = time.time() - t2\n",
    "\n",
    "# print the time\n",
    "print('The outputs of the code are:')\n",
    "print('Using the inverse takes {} seconds' .format(np.round(runtime1,3)))\n",
    "print('Solving the system of equalities takes {} seconds' .format(np.round(runtime2,3)))\n",
    "\n",
    "# You can also see that due to rounding errors the solutions are not completely identical. \n",
    "# The norm of the difference is printed below, you can see some numerical difference while the same solution should be found.\n",
    "\n",
    "print('The Euclidean norm of the difference between the solutions is {}' .format(np.round(np.linalg.norm(b_bar1-b_bar2),11)));\n",
    "\n",
    "# In practice, with some specific matrices, the difference in both time and solutions can be larger.\n"
   ]
  },
  {
   "cell_type": "code",
   "execution_count": null,
   "id": "791dbccb",
   "metadata": {},
   "outputs": [],
   "source": []
  }
 ],
 "metadata": {
  "kernelspec": {
   "display_name": "Python 3",
   "language": "python",
   "name": "python3"
  },
  "language_info": {
   "codemirror_mode": {
    "name": "ipython",
    "version": 3
   },
   "file_extension": ".py",
   "mimetype": "text/x-python",
   "name": "python",
   "nbconvert_exporter": "python",
   "pygments_lexer": "ipython3",
   "version": "3.8.8"
  }
 },
 "nbformat": 4,
 "nbformat_minor": 5
}
